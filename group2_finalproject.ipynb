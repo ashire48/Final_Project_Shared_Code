#Chem543 Group 2 Final Project - Spring 2024
#Takaye F, Aaron A, Santiago H, Juliette CM, Michael K, Andrew S
#Can everyone come and type your name in the line above just so that we can know that everyone knows how to edit this Jupyter Notebook!

#Make sure to install these in terminal before running
# e.g. pip install Py, pip install PyTorch, etc.
#Notes for starting via the CustomVision tutorial imageupload.ipynb - Juliette
#copy the util.py and azurepy.py files to the Final Project Folder in VS Code via the terminal (move local files from one directory to the next)
# first move to the directory you want to copy files to then input this code in the terminal: /<full pathname to file>/util.py . 
#now in the jupyter notebook for the final project input and run the following code (I used the yolov5 kernal to run this) 

%pip install azure-cognitiveservices-vision-customvision scikit-learn scikit-image

import os
from util import labeledImage
from azureapi import AzureCVObjectDetectionAPI
from sklearn.model_selection import train_test_split

#Creating molecule identification via object detection

#Created object detecion using ImageJ before running perforance analysis
#converted images to jpeg from png
#Labeled images in IamgeJ, split up labeling between group members - possible error: differences in how group members labled defects
#Create labels folder in mos2 folder and run performance analysis
images_dir = './images/'
labels_dir = './images/labels/'

labeled_images = []
tag = 'defect'

#Here the helper class is used to store and save the image labels
for file in os.listdir(molecules_dir):
    if file.endswith(".jpeg"):
        image_path = os.path.join(images_dir, file)
        label_path = os.path.join(labels_dir, file.split('.')[0] + '.txt')
        labeled_images.append(labeledImage(image_path))
        labeled_images[-1].add_labels_from_file(tag, label_path)





# Analysis: 
# The probability threshold impacts the precision and recall of the machine learning procedure. It defines the "likeliness" of which a certain image belongs to a certain set class of images defined by the programmer. The overlap threshold is responsible in measuring the degree of overlap between the predicted bounded boxes and the bounded boxes for the dataset given for this project. 
# As the probability threshold increased and overlap threshold decreased in our experiment, the overall performance improved. There was an increase of percentages in all parameters (Precision, Recall, and mAP). 
# An increased probability threshold will reduce false positives but increase false negatives while a decreased overlap threshold will increase true and false positives, in consequence of making the machine more conservative in its detection. 
# As one can conlcude, defining carefully what constitutes as a defect and overlapping the boxes for the machine to recongnize is a limitation as human error can influece the decision of the classification of a defect. If there are better improved versions that are able to classify defects more accurately, then the results of the predictive models will increase in accuracy. 
# As this model suggests, there are limitations to such methods in designing machine learning. Eventhough manipulating the probability and overlap threshold influenced the overall performance of the parameters, it is crucial to be aware of the variation it can possess which can lead to inconclusive/incorrect conclusions about the models. 
# Ways to improve: 
#    Provide more data and cross-referencce between data-sets: Ensures results are consistent and accurate.
#    Better sized match boxes: Improves detection performance. 
#    Understanding false positives and negatives: Analysis of errors will result in manipulation of parameters to improve performace. 
